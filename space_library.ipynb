{
 "cells": [
  {
   "cell_type": "code",
   "execution_count": 15,
   "id": "efa20801",
   "metadata": {},
   "outputs": [
    {
     "data": {
      "text/plain": [
       "'3.4.1'"
      ]
     },
     "execution_count": 15,
     "metadata": {},
     "output_type": "execute_result"
    }
   ],
   "source": [
    "import spacy\n",
    "spacy. __version__"
   ]
  },
  {
   "cell_type": "code",
   "execution_count": null,
   "id": "2aa47caa",
   "metadata": {},
   "outputs": [],
   "source": []
  },
  {
   "cell_type": "code",
   "execution_count": 18,
   "id": "83d406aa",
   "metadata": {},
   "outputs": [
    {
     "name": "stdout",
     "output_type": "stream",
     "text": [
      "Gaya PROPN\n",
      "is AUX\n",
      "an DET\n",
      "amazing ADJ\n",
      "person NOUN\n",
      "! PUNCT\n"
     ]
    }
   ],
   "source": [
    "# POS -tagging\n",
    "nlp = spacy.load(\"en_core_web_sm\") # loads the spacy en model into a pyhton object\n",
    "doc = nlp(u'Gaya is an amazing person!') # creats a doc object \n",
    "for token in doc:\n",
    "    print(token.text, token.pos_)\n"
   ]
  },
  {
   "cell_type": "code",
   "execution_count": 22,
   "id": "48be083a",
   "metadata": {},
   "outputs": [
    {
     "name": "stdout",
     "output_type": "stream",
     "text": [
      "Google Google PROPN NNP compound Xxxxx True False\n",
      "release release NOUN NN ROOT xxxx True False\n",
      "\" \" PUNCT `` punct \" False False\n",
      "Move Move PROPN NNP nmod Xxxx True True\n",
      "Mirror Mirror PROPN NNP nmod Xxxxx True False\n",
      "\" \" PUNCT '' punct \" False False\n",
      "AI AI PROPN NNP compound XX True False\n",
      "experiment experiment NOUN NN appos xxxx True False\n",
      "that that PRON WDT nsubj xxxx True True\n",
      "matches match VERB VBZ relcl xxxx True False\n",
      "your your PRON PRP$ poss xxxx True True\n",
      "pose pose NOUN NN dobj xxxx True False\n",
      "from from ADP IN prep xxxx True True\n",
      "80,000 80,000 NUM CD nummod dd,ddd False False\n",
      "images image NOUN NNS pobj xxxx True False\n"
     ]
    }
   ],
   "source": [
    "doc = nlp(u'Google release \"Move Mirror\" AI experiment that matches your pose from 80,000 images') # creats a doc object \n",
    "for token in doc:\n",
    "    print(token.text, token.lemma_,token.pos_,token.tag_, token.dep_, token.shape_, token.is_alpha, token.is_stop)"
   ]
  },
  {
   "cell_type": "code",
   "execution_count": 35,
   "id": "22049576",
   "metadata": {},
   "outputs": [],
   "source": [
    "# from spacy.lemmatizer import Lemmatizer\n",
    "# from spacy.lang.en import *\n",
    "# lemmatizer = Lemmatizer(('chukles', 'NOUN'))\n",
    "# lemmatizer('chukles', 'NOUN')"
   ]
  },
  {
   "cell_type": "code",
   "execution_count": 28,
   "id": "2b622d99",
   "metadata": {},
   "outputs": [
    {
     "name": "stdout",
     "output_type": "stream",
     "text": [
      "fastest\n",
      "fastest\n"
     ]
    }
   ],
   "source": [
    "from nltk.stem.porter import *\n",
    "from nltk.stem.snowball import SnowballStemmer\n",
    "porter_stemmer = PorterStemmer()\n",
    "snowball = SnowballStemmer('english')\n",
    "print(porter_stemmer.stem('fastest'))\n",
    "print(snowball.stem('fastest'))"
   ]
  },
  {
   "cell_type": "code",
   "execution_count": 39,
   "id": "204b4bcd",
   "metadata": {},
   "outputs": [
    {
     "name": "stdout",
     "output_type": "stream",
     "text": [
      "Mountain View GPE\n",
      "California GPE\n",
      "109.65 billion US MONEY\n"
     ]
    }
   ],
   "source": [
    "# spacy entity , using doc.ents()\n",
    "my_string = u\"Google has its headquaters in Mountain View, California having revenue amounted to 109.65 billion US dollares\"\n",
    "doc = nlp(my_string) # creats a doc object \n",
    "for token in doc.ents:\n",
    "    print(token.text, token.label_)"
   ]
  },
  {
   "cell_type": "code",
   "execution_count": null,
   "id": "89a09887",
   "metadata": {},
   "outputs": [],
   "source": []
  }
 ],
 "metadata": {
  "kernelspec": {
   "display_name": "Python 3 (ipykernel)",
   "language": "python",
   "name": "python3"
  },
  "language_info": {
   "codemirror_mode": {
    "name": "ipython",
    "version": 3
   },
   "file_extension": ".py",
   "mimetype": "text/x-python",
   "name": "python",
   "nbconvert_exporter": "python",
   "pygments_lexer": "ipython3",
   "version": "3.9.12"
  }
 },
 "nbformat": 4,
 "nbformat_minor": 5
}
